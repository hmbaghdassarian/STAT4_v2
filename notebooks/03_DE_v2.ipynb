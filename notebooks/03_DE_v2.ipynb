{
 "cells": [
  {
   "cell_type": "markdown",
   "id": "4c08544c",
   "metadata": {},
   "source": [
    "We expect T-cell and NK cell populations to be effected by the STAT4 mutation, so we will specifically look into those subpopulations. \n",
    "\n",
    "We also want to  look at disease-effects (Patient 2, off treatment vs control) and treatment-effects (Patient 1, on treatment vs Patient 2, off treatment). \n",
    "\n",
    "[CACOA](https://doi.org/10.1101/2022.03.15.484475) is specifically developed for same cell type DE across samples, so we will use it for these test. "
   ]
  },
  {
   "cell_type": "code",
   "execution_count": 1,
   "id": "f1780bfd",
   "metadata": {},
   "outputs": [],
   "source": [
    "suppressPackageStartupMessages({\n",
    "    suppressWarnings({\n",
    "        library(Seurat, quietly = T)\n",
    "        library(openxlsx, quietly = T)\n",
    "        library(cacoa, quietly = T)\n",
    "    })\n",
    "})\n",
    "\n",
    "data_path = '/data3/hratch/STAT4_v2/'\n",
    "n.cores=20"
   ]
  },
  {
   "cell_type": "code",
   "execution_count": 2,
   "id": "76b15cb6",
   "metadata": {},
   "outputs": [],
   "source": [
    "pbmc.integrated<-readRDS(paste0(data_path, 'processed/pbmc_integrated.RDS'))\n",
    "md<-pbmc.integrated@meta.data"
   ]
  },
  {
   "cell_type": "markdown",
   "id": "cd55504a",
   "metadata": {},
   "source": [
    "Specifiy the cell types and context comparisons to test for:"
   ]
  },
  {
   "cell_type": "code",
   "execution_count": 3,
   "id": "a77250f6",
   "metadata": {},
   "outputs": [],
   "source": [
    "cell.types<-c('Naive CD8+ T cells', 'Natural killer  cells', \n",
    "              'Naive CD4+ T cells', 'Effector CD4+ T cells', 'Memory CD4+ T cells')\n",
    "comparisons<-list(disease.effect = list(target = 'Patient.2', ref = 'Control'), \n",
    "                treatment.effect = list(target = 'Patient.1', ref = 'Patient.2'))"
   ]
  },
  {
   "cell_type": "markdown",
   "id": "c3b3e66a",
   "metadata": {},
   "source": [
    "# CACOA"
   ]
  },
  {
   "cell_type": "code",
   "execution_count": null,
   "id": "3543bbfe",
   "metadata": {},
   "outputs": [],
   "source": [
    "# wilcoxon.de<-function(cell.type, context.treat, context.base){\n",
    "#     pbmc.subset<-subset(x = pbmc.integrated, subset = Cell.Type == ct)\n",
    "#     Idents(pbmc.subset)<-'orig.ident'\n",
    "\n",
    "#     de.res<-FindMarkers(object = pbmc.subset, \n",
    "#                         ident.1 = context.treat, ident.2 = context.base,\n",
    "#                         assay = 'RNA', only.pos = F, \n",
    "#                         slot = 'data', test.use = 'wilcox', \n",
    "#                         min.pct = 0.1, # default\n",
    "#                         logfc.threshold = 0.5 # default\n",
    "#                                       )\n",
    "#     de.res[['gene']]<-rownames(de.res)\n",
    "#     de.res[['Cell.Type']]<-ct\n",
    "#     de.res[['Comparison']]<-paste0(context.treat, '_vs_', context.base)\n",
    "    \n",
    "#     return(de.res)\n",
    "# }"
   ]
  },
  {
   "cell_type": "markdown",
   "id": "44083d11",
   "metadata": {},
   "source": [
    "Since the CACOA pacakge uses the DESeq2 package, but with a latent covariate calculated, we will use the raw UMI counts"
   ]
  },
  {
   "cell_type": "code",
   "execution_count": 68,
   "id": "858ef7fb",
   "metadata": {},
   "outputs": [
    {
     "name": "stderr",
     "output_type": "stream",
     "text": [
      "Warning message in initialize(...):\n",
      "“Many function may be not supported for an object of class dgCMatrix”\n",
      "Interpreting data.object as a raw count matrix\n",
      "\n",
      "Warning message in mclapply(X, FUN, ..., mc.cores = mc.cores, mc.preschedule = mc.preschedule, :\n",
      "“all scheduled cores encountered errors in user code”\n"
     ]
    }
   ],
   "source": [
    "comparison<-comparisons[[1]]\n",
    "cell.type<-'Effector CD4+ T cells'\n",
    "pbmc.subset = subset(pbmc.integrated, \n",
    "                     subset = (orig.ident %in% comparison) & (Cell.Type == cell.type))\n",
    "cao <- Cacoa$new(data.object=pbmc.subset@assays$RNA@counts, \n",
    "                 n.cores=n.cores,\n",
    "                 sample.groups=droplevels(pbmc.subset$orig.ident), \n",
    "                 cell.groups=droplevels(pbmc.subset$Cell.Type), \n",
    "                 sample.per.cell=droplevels(pbmc.subset$orig.ident), \n",
    "                 ref.level=comparison$ref, \n",
    "                 target.level=comparison$target)\n",
    "\n",
    "cao$estimateDEPerCellType(cell.groups=cell.type, \n",
    "#                           test =  'edgeR', # benchmarked\n",
    "                         resampling.method='loo', \n",
    "                         min.cell.frac=0.1 # same as Seurat default\n",
    "                         )"
   ]
  },
  {
   "cell_type": "code",
   "execution_count": 69,
   "id": "efef352e",
   "metadata": {},
   "outputs": [
    {
     "data": {
      "text/html": [
       "<style>\n",
       ".dl-inline {width: auto; margin:0; padding: 0}\n",
       ".dl-inline>dt, .dl-inline>dd {float: none; width: auto; display: inline-block}\n",
       ".dl-inline>dt::after {content: \":\\0020\"; padding-right: .5ex}\n",
       ".dl-inline>dt:not(:first-of-type) {padding-left: .5ex}\n",
       "</style><dl class=dl-inline><dt>AAAGGATTCTTTGATC-1 .Control</dt><dd>Control</dd><dt>AAAGTCCCAGAGACTG-1 .Control</dt><dd>Control</dd><dt>AACAAGAGTGCAATGG-1 .Control</dt><dd>Control</dd><dt>AACCCAATCCACACCT-1 .Control</dt><dd>Control</dd><dt>AACGAAAGTGAATTAG-1 .Control</dt><dd>Control</dd><dt>AACGTCAGTCAAGGCA-1 .Control</dt><dd>Control</dd></dl>\n",
       "\n",
       "<details>\n",
       "\t<summary style=display:list-item;cursor:pointer>\n",
       "\t\t<strong>Levels</strong>:\n",
       "\t</summary>\n",
       "\t<style>\n",
       "\t.list-inline {list-style: none; margin:0; padding: 0}\n",
       "\t.list-inline>li {display: inline-block}\n",
       "\t.list-inline>li:not(:last-child)::after {content: \"\\00b7\"; padding: 0 .5ex}\n",
       "\t</style>\n",
       "\t<ol class=list-inline><li>'Control'</li><li>'Patient.2'</li></ol>\n",
       "</details>"
      ],
      "text/latex": [
       "\\begin{description*}\n",
       "\\item[AAAGGATTCTTTGATC-1 .Control] Control\n",
       "\\item[AAAGTCCCAGAGACTG-1 .Control] Control\n",
       "\\item[AACAAGAGTGCAATGG-1 .Control] Control\n",
       "\\item[AACCCAATCCACACCT-1 .Control] Control\n",
       "\\item[AACGAAAGTGAATTAG-1 .Control] Control\n",
       "\\item[AACGTCAGTCAAGGCA-1 .Control] Control\n",
       "\\end{description*}\n",
       "\n",
       "\\emph{Levels}: \\begin{enumerate*}\n",
       "\\item 'Control'\n",
       "\\item 'Patient.2'\n",
       "\\end{enumerate*}\n"
      ],
      "text/markdown": [
       "AAAGGATTCTTTGATC-1 .Control\n",
       ":   ControlAAAGTCCCAGAGACTG-1 .Control\n",
       ":   ControlAACAAGAGTGCAATGG-1 .Control\n",
       ":   ControlAACCCAATCCACACCT-1 .Control\n",
       ":   ControlAACGAAAGTGAATTAG-1 .Control\n",
       ":   ControlAACGTCAGTCAAGGCA-1 .Control\n",
       ":   Control\n",
       "\n",
       "\n",
       "**Levels**: 1. 'Control'\n",
       "2. 'Patient.2'\n",
       "\n",
       "\n"
      ],
      "text/plain": [
       "AAAGGATTCTTTGATC-1 .Control AAAGTCCCAGAGACTG-1 .Control \n",
       "                    Control                     Control \n",
       "AACAAGAGTGCAATGG-1 .Control AACCCAATCCACACCT-1 .Control \n",
       "                    Control                     Control \n",
       "AACGAAAGTGAATTAG-1 .Control AACGTCAGTCAAGGCA-1 .Control \n",
       "                    Control                     Control \n",
       "Levels: Control Patient.2"
      ]
     },
     "metadata": {},
     "output_type": "display_data"
    }
   ],
   "source": [
    "head(droplevels(pbmc.subset$orig.ident))"
   ]
  },
  {
   "cell_type": "code",
   "execution_count": null,
   "id": "b6260fd7",
   "metadata": {},
   "outputs": [],
   "source": []
  }
 ],
 "metadata": {
  "kernelspec": {
   "display_name": "R [conda env:STAT4_v2] *",
   "language": "R",
   "name": "conda-env-STAT4_v2-r"
  },
  "language_info": {
   "codemirror_mode": "r",
   "file_extension": ".r",
   "mimetype": "text/x-r-source",
   "name": "R",
   "pygments_lexer": "r",
   "version": "4.1.3"
  }
 },
 "nbformat": 4,
 "nbformat_minor": 5
}
