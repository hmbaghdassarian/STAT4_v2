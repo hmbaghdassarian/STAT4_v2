{
 "cells": [
  {
   "cell_type": "markdown",
   "id": "df7cb82e",
   "metadata": {},
   "source": [
    "We expect T-cell and NK cell populations to be effected by the STAT4 mutation, so we will specifically look into those subpopulations. \n",
    "\n",
    "We also want to  look at disease-effects (Patient 2, off treatment vs control) and treatment-effects (Patient 1, on treatment vs Patient 2, off treatment). "
   ]
  },
  {
   "cell_type": "code",
   "execution_count": 1,
   "id": "db186480",
   "metadata": {},
   "outputs": [],
   "source": [
    "suppressPackageStartupMessages({\n",
    "    suppressWarnings({\n",
    "        library(Seurat, quietly = T)\n",
    "        library(openxlsx, quietly = T)\n",
    "        library(ggpubr, quietly = T)\n",
    "    })\n",
    "})\n",
    "\n",
    "data_path = '/data3/hratch/STAT4_v2/'"
   ]
  },
  {
   "cell_type": "code",
   "execution_count": 2,
   "id": "4f842f5f",
   "metadata": {},
   "outputs": [],
   "source": [
    "pbmc.integrated<-readRDS(paste0(data_path, 'processed/pbmc_integrated.RDS'))\n",
    "md<-pbmc.integrated@meta.data"
   ]
  },
  {
   "cell_type": "markdown",
   "id": "de453068",
   "metadata": {},
   "source": [
    "Specifiy the cell types and context comparisons to test for:"
   ]
  },
  {
   "cell_type": "code",
   "execution_count": 3,
   "id": "92b80e88",
   "metadata": {},
   "outputs": [],
   "source": [
    "cell.types<-c('Naive CD8+ T cells', 'Natural killer  cells', \n",
    "              'Naive CD4+ T cells', 'Effector CD4+ T cells', 'Memory CD4+ T cells')\n",
    "comparisons<-list(disease.effect = c('Patient.2', 'Control'), \n",
    "                treatment.effect = c('Patient.1', 'Patient.2'))"
   ]
  },
  {
   "cell_type": "markdown",
   "id": "4c905eed",
   "metadata": {},
   "source": [
    "# Wilcoxon\n",
    "\n",
    "We will first try the Wilcoxon test since this worked well for markers and is the most common type of test used. "
   ]
  },
  {
   "cell_type": "code",
   "execution_count": 28,
   "id": "1898f02b",
   "metadata": {},
   "outputs": [],
   "source": [
    "wilcoxon.de<-function(cell.type, context.treat, context.base){\n",
    "    pbmc.subset<-subset(x = pbmc.integrated, subset = Cell.Type == ct)\n",
    "    Idents(pbmc.subset)<-'orig.ident'\n",
    "\n",
    "    de.res<-FindMarkers(object = pbmc.subset, \n",
    "                        ident.1 = context.treat, ident.2 = context.base,\n",
    "                        assay = 'RNA', only.pos = F, \n",
    "                        slot = 'data', test.use = 'wilcox', \n",
    "                        min.pct = 0.1, # default\n",
    "                        logfc.threshold = 0.5 # default\n",
    "                                      )\n",
    "    de.res[['gene']]<-rownames(de.res)\n",
    "    de.res[['Cell.Type']]<-ct\n",
    "    de.res[['Comparison']]<-paste0(context.treat, '_vs_', context.base)\n",
    "    \n",
    "    return(de.res)\n",
    "}"
   ]
  },
  {
   "cell_type": "code",
   "execution_count": 5,
   "id": "a6704be5",
   "metadata": {},
   "outputs": [],
   "source": [
    "wilcoxon.de.res<-list()\n",
    "for (comparison in comparisons){\n",
    "    for (ct in cell.types){\n",
    "        context.treat<-comparison[[1]]\n",
    "        context.base<-comparison[[2]]\n",
    "        cond.name<-paste0(ct, '_', paste0(comparison, collapse = 'vs'))\n",
    "        wilcoxon.de.res[[cond.name]]<-wilcoxon.de(cell.type, context.treat, context.base)\n",
    "    }\n",
    "}\n",
    "saveRDS(wilcoxon.de.res, paste0(data_path, 'processed/wilcoxon_condition-specific_DE.RDS'))"
   ]
  },
  {
   "cell_type": "code",
   "execution_count": 6,
   "id": "76d8c6c5",
   "metadata": {},
   "outputs": [
    {
     "name": "stdout",
     "output_type": "stream",
     "text": [
      "[1] \"# of DE genes prior to filtering:\"\n"
     ]
    },
    {
     "data": {
      "text/plain": [
       "                       \n",
       "                        Patient.1_vs_Patient.2 Patient.2_vs_Control\n",
       "  Effector CD4+ T cells                    141                 1135\n",
       "  Memory CD4+ T cells                       11                  180\n",
       "  Naive CD4+ T cells                        85                  961\n",
       "  Naive CD8+ T cells                        56                  819\n",
       "  Natural killer  cells                     27                  366"
      ]
     },
     "metadata": {},
     "output_type": "display_data"
    }
   ],
   "source": [
    "de.res<-do.call(\"rbind\", wilcoxon.de.res)\n",
    "de.res<-de.res[de.res$p_val_adj <= 0.1,] # threshold on p_adj\n",
    "\n",
    "print('# of DE genes prior to filtering:')\n",
    "table(de.res$Cell.Type, de.res$Comparison)"
   ]
  },
  {
   "cell_type": "code",
   "execution_count": 9,
   "id": "e0b1c46e",
   "metadata": {},
   "outputs": [
    {
     "data": {
      "text/plain": [
       "                       \n",
       "                        Patient.1_vs_Patient.2 Patient.2_vs_Control\n",
       "  Effector CD4+ T cells                     17                  173\n",
       "  Memory CD4+ T cells                        2                   16\n",
       "  Naive CD4+ T cells                        10                   91\n",
       "  Naive CD8+ T cells                         8                   60\n",
       "  Natural killer  cells                      1                   51"
      ]
     },
     "metadata": {},
     "output_type": "display_data"
    }
   ],
   "source": [
    "pos.only<-de.res[de.res$avg_log2FC > 0,]\n",
    "table(pos.only$Cell.Type, pos.only$Comparison)"
   ]
  },
  {
   "cell_type": "markdown",
   "id": "3894f513",
   "metadata": {},
   "source": [
    "We anticipate that there is a general upregulation of genes in Patient 2 vs the control, since STAT4 is a gain-of-function mutation, so this result is unexpected. Since this test gives us unexpected results, we assume that this may be due to technical rather than biological variability. \n",
    "\n",
    "Thus, we move to tests that can better control for technical effects. Latent variables that account for technical effects have been [shown](https://www.biorxiv.org/content/10.1101/2022.03.15.484475v1) to be effective for DE across samples.The logistic regression (see 02Ci for details) allows for control of latent variables. We will first use the CDR (cellular detection rate) which has been [shown](https://genomebiology.biomedcentral.com/articles/10.1186/s13059-015-0844-5) to be an effective latent variable for technical effects\n",
    "\n",
    "Note, we do expect downregulation of genes in Patient 1 relative to Patient 2 since this is the treatment-effect."
   ]
  },
  {
   "cell_type": "markdown",
   "id": "64bf3bb9",
   "metadata": {},
   "source": [
    "Skipped: Since there were fewer differences b/w the patients then vs the control, we apply more stringent thresholding to the control comparison than the one between patients:"
   ]
  },
  {
   "cell_type": "code",
   "execution_count": 190,
   "id": "5ada9f6c",
   "metadata": {},
   "outputs": [
    {
     "name": "stdout",
     "output_type": "stream",
     "text": [
      "[1] \"# of DE genes after filtering:\"\n"
     ]
    },
    {
     "data": {
      "text/plain": [
       "                       \n",
       "                        Patient.1_vs_Patient.2 Patient.2_vs_Control\n",
       "  Effector CD4+ T cells                    141                  236\n",
       "  Memory CD4+ T cells                       11                  128\n",
       "  Naive CD4+ T cells                        85                  201\n",
       "  Naive CD8+ T cells                        56                  205\n",
       "  Natural killer  cells                     27                   93"
      ]
     },
     "metadata": {},
     "output_type": "display_data"
    }
   ],
   "source": [
    "# de.control<-de.res[de.res$Comparison == 'Patient.2_vs_Control', ]\n",
    "# de.control<-de.control[abs(de.control$avg_log2FC) > 1.5,] # further threshold on LFC\n",
    "\n",
    "# de.patient<-de.res[de.res$Comparison == 'Patient.1_vs_Patient.2', ] # already thresholded on LFC = 0.5\n",
    "# # sort and merge\n",
    "# de.control<-de.control[with(de.control, order(Cell.Type, -avg_log2FC)), ] # sort by effect size\n",
    "# de.patient<-de.patient[with(de.patient, order(Cell.Type, -avg_log2FC)), ] # sort by effect size\n",
    "# de.res<-rbind(de.control, de.patient)\n",
    "\n",
    "# print('# of DE genes after filtering:')\n",
    "# table(de.res$Cell.Type, de.res$Comparison)"
   ]
  },
  {
   "cell_type": "code",
   "execution_count": 176,
   "id": "2bb2c052",
   "metadata": {},
   "outputs": [],
   "source": [
    "# # save to excel\n",
    "# counter<-1\n",
    "# markers_workbook<-createWorkbook()\n",
    "# for (comparison in unique(de.res$Comparison)){\n",
    "#     for (cell.type in  unique(de.res$Cell.Type)){\n",
    "#         de.res.cl<-de.res[(de.res$Comparison == comparison) & (de.res$Cell.Type == cell.type), ]\n",
    "#         if (dim(de.res.cl)[[1]] > 0){rownames(de.res.cl)<-1:dim(de.res.cl)[[1]]}\n",
    "#         addWorksheet(markers_workbook, paste0(counter))\n",
    "#         writeData(markers_workbook, sheet = paste0(counter), x = de.res.cl)\n",
    "#         counter<-counter + 1\n",
    "#     }\n",
    "# }\n",
    "# saveWorkbook(markers_workbook, overwrite = T, \n",
    "#                  paste0(data_path, 'processed/', 'wilcoxon_condition-specific_DE.xlsx'))"
   ]
  },
  {
   "cell_type": "markdown",
   "id": "2fbcd342",
   "metadata": {},
   "source": [
    "# Logistic Regression"
   ]
  },
  {
   "cell_type": "code",
   "execution_count": 15,
   "id": "c0613e81",
   "metadata": {},
   "outputs": [],
   "source": [
    "LR.de<-function(cell.type, context.treat, context.base, latent.vars){\n",
    "    pbmc.subset<-subset(x = pbmc.integrated, subset = Cell.Type == ct)\n",
    "    Idents(pbmc.subset)<-'orig.ident'\n",
    "    \n",
    "    suppressWarnings({\n",
    "        suppressMessages({\n",
    "            de.res<-FindMarkers(object = pbmc.subset, \n",
    "                                ident.1 = context.treat, ident.2 = context.base,\n",
    "                                assay = 'RNA', only.pos = F, \n",
    "                                slot = 'data', test.use = 'LR', \n",
    "                                latent.vars = latent.vars,\n",
    "                                min.pct = 0.1, # default\n",
    "                                logfc.threshold = 0.5 # default\n",
    "                                              )\n",
    "            })\n",
    "    })\n",
    "    de.res[['gene']]<-rownames(de.res)\n",
    "    de.res[['Cell.Type']]<-ct\n",
    "    de.res[['Comparison']]<-paste0(context.treat, '_vs_', context.base)\n",
    "    \n",
    "    return(de.res)\n",
    "}"
   ]
  },
  {
   "cell_type": "markdown",
   "id": "52730408",
   "metadata": {},
   "source": [
    "## CDR "
   ]
  },
  {
   "cell_type": "markdown",
   "id": "14953d58",
   "metadata": {},
   "source": [
    "First, we calculate the CDR from the LogNormalized expression matrix:"
   ]
  },
  {
   "cell_type": "code",
   "execution_count": 5,
   "id": "e1fbcc16",
   "metadata": {},
   "outputs": [],
   "source": [
    "freq<-function(expr){\n",
    "    nonzero.counts<-rowSums(expr !=0 ) # get # of nonzero cells per gene\n",
    "    return(nonzero.counts/dim(expr)[[2]])\n",
    "}"
   ]
  },
  {
   "cell_type": "code",
   "execution_count": 6,
   "id": "aced05b3",
   "metadata": {},
   "outputs": [],
   "source": [
    "expr = pbmc.integrated@assays$RNA@data # log-normalized matrix\n",
    "expr<-expr[which(freq(expr)>0),] # remove invariant genes"
   ]
  },
  {
   "cell_type": "code",
   "execution_count": 7,
   "id": "f30ba47d",
   "metadata": {},
   "outputs": [],
   "source": [
    "thresh = 0 # calculate CDR on non-zero frequency (NOTE: code will need to be changed if setting higher thresh)\n",
    "if (thresh == 0){\n",
    "    cdr<-unlist(unname(scale(colSums(expr!=thresh))[, 1])) # calculate CDR as in MAST tutorial (https://www.bioconductor.org/packages/release/bioc/vignettes/MAST/inst/doc/MAITAnalysis.html)\n",
    "    cdr.2<-unlist(unname(colSums(expr > thresh)/dim(expr)[[1]])) # calculate as in MAST manuscript\n",
    "}else{\n",
    "    stop('Need to implement this if using')\n",
    "}"
   ]
  },
  {
   "cell_type": "markdown",
   "id": "439402fe",
   "metadata": {},
   "source": [
    "Note, although the two methods to calculate the CDR give different absolute values, they have perfect correlation (we will proceed with the tutorial recommended CDR calculation):"
   ]
  },
  {
   "cell_type": "code",
   "execution_count": 8,
   "id": "073eeef5",
   "metadata": {},
   "outputs": [
    {
     "data": {
      "text/html": [
       "FALSE"
      ],
      "text/latex": [
       "FALSE"
      ],
      "text/markdown": [
       "FALSE"
      ],
      "text/plain": [
       "[1] FALSE"
      ]
     },
     "metadata": {},
     "output_type": "display_data"
    },
    {
     "data": {
      "text/html": [
       "1"
      ],
      "text/latex": [
       "1"
      ],
      "text/markdown": [
       "1"
      ],
      "text/plain": [
       "[1] 1"
      ]
     },
     "metadata": {},
     "output_type": "display_data"
    }
   ],
   "source": [
    "identical(cdr, cdr.2)\n",
    "cor(cdr, cdr.2,  method = \"spearman\", use = \"complete.obs\")"
   ]
  },
  {
   "cell_type": "code",
   "execution_count": 9,
   "id": "4d4811ca",
   "metadata": {},
   "outputs": [],
   "source": [
    "pbmc.integrated@meta.data[['cellular.detection.rate']]<-cdr # add cdr to object"
   ]
  },
  {
   "cell_type": "code",
   "execution_count": 16,
   "id": "be9aa7c2",
   "metadata": {},
   "outputs": [],
   "source": [
    "LR.de.res<-list()\n",
    "for (comparison in comparisons){\n",
    "    for (ct in cell.types){\n",
    "        context.treat<-comparison[[1]]\n",
    "        context.base<-comparison[[2]]\n",
    "        cond.name<-paste0(ct, '_', paste0(comparison, collapse = 'vs'))\n",
    "        LR.de.res[[cond.name]]<-LR.de(cell.type, context.treat, context.base, \n",
    "                                      latent.vars = 'cellular.detection.rate')\n",
    "    }\n",
    "}\n",
    "saveRDS(LR.de.res, paste0(data_path, 'processed/LR_condition-specific_DE.RDS'))"
   ]
  },
  {
   "cell_type": "code",
   "execution_count": 11,
   "id": "7be10575",
   "metadata": {},
   "outputs": [
    {
     "name": "stdout",
     "output_type": "stream",
     "text": [
      "[1] \"# of DE genes prior to filtering:\"\n"
     ]
    },
    {
     "data": {
      "text/plain": [
       "                       \n",
       "                        Patient.1_vs_Patient.2 Patient.2_vs_Control\n",
       "  Effector CD4+ T cells                     86                  435\n",
       "  Memory CD4+ T cells                        5                   59\n",
       "  Naive CD4+ T cells                        42                  265\n",
       "  Naive CD8+ T cells                        36                  172\n",
       "  Natural killer  cells                     16                   67"
      ]
     },
     "metadata": {},
     "output_type": "display_data"
    }
   ],
   "source": [
    "de.res<-do.call(\"rbind\", LR.de.res)\n",
    "de.res<-de.res[de.res$p_val_adj <= 0.1,] # threshold on p_adj\n",
    "\n",
    "print('# of DE genes prior to filtering:')\n",
    "table(de.res$Cell.Type, de.res$Comparison)"
   ]
  },
  {
   "cell_type": "code",
   "execution_count": 12,
   "id": "43ca4826",
   "metadata": {},
   "outputs": [
    {
     "data": {
      "text/plain": [
       "                       \n",
       "                        Patient.1_vs_Patient.2 Patient.2_vs_Control\n",
       "  Effector CD4+ T cells                     33                  195\n",
       "  Memory CD4+ T cells                        2                   11\n",
       "  Naive CD4+ T cells                        17                   84\n",
       "  Naive CD8+ T cells                        11                   44\n",
       "  Natural killer  cells                      2                   19"
      ]
     },
     "metadata": {},
     "output_type": "display_data"
    }
   ],
   "source": [
    "pos.only<-de.res[de.res$avg_log2FC > 0,]\n",
    "table(pos.only$Cell.Type, pos.only$Comparison)"
   ]
  },
  {
   "cell_type": "markdown",
   "id": "7bc1ef9a",
   "metadata": {},
   "source": [
    "# CACAO"
   ]
  },
  {
   "cell_type": "markdown",
   "id": "ec28b4ed",
   "metadata": {},
   "source": [
    "We still see the same unexpected rate of positive vs negative LFC. Instead of CDR, we use a DE testing method explicitly developed for comparing the same cell type between two samples (method [here](https://www.biorxiv.org/content/10.1101/2022.03.15.484475v1.full))"
   ]
  },
  {
   "cell_type": "code",
   "execution_count": null,
   "id": "14ca09ae",
   "metadata": {},
   "outputs": [],
   "source": []
  }
 ],
 "metadata": {
  "kernelspec": {
   "display_name": "R [conda env:STAT4_v2] *",
   "language": "R",
   "name": "conda-env-STAT4_v2-r"
  },
  "language_info": {
   "codemirror_mode": "r",
   "file_extension": ".r",
   "mimetype": "text/x-r-source",
   "name": "R",
   "pygments_lexer": "r",
   "version": "4.1.3"
  }
 },
 "nbformat": 4,
 "nbformat_minor": 5
}
