{
 "cells": [
  {
   "cell_type": "code",
   "execution_count": 1,
   "metadata": {},
   "outputs": [],
   "source": [
    "from dotenv import load_dotenv, find_dotenv, dotenv_values\n",
    "import os"
   ]
  },
  {
   "cell_type": "code",
   "execution_count": 2,
   "metadata": {},
   "outputs": [
    {
     "name": "stdout",
     "output_type": "stream",
     "text": [
      "load environmental variables\n",
      "The project root is: /home/hratch/Projects/STAT4/\n"
     ]
    }
   ],
   "source": [
    "print('load environmental variables')\n",
    "# find .env automatically by walking up directories until it's found\n",
    "dotenv_path = find_dotenv()\n",
    "try:\n",
    "    # load up the entries as environment variables\n",
    "    load_dotenv(dotenv_path)\n",
    "\n",
    "    root_path = os.environ.get(\"ROOT_DIR\")\n",
    "    print('The project root is: ' + root_path)\n",
    "    local_data_path = os.environ.get(\"LOCAL_DATA_PATH\")\n",
    "    general_analyses_path = os.environ.get(\"GENERAL_ANALYSES_DIR\")\n",
    "\n",
    "    folder_id = os.environ.get(\"FOLDER_ID\")\n",
    "#     zip_name = os.environ.get(\"ZIP_NAME\")\n",
    "    \n",
    "except:\n",
    "    raise ValueError('Create a .env file in root directory with appropriate variables filled in (see .env_template)')"
   ]
  }
 ],
 "metadata": {
  "kernelspec": {
   "display_name": "Python 3",
   "language": "python",
   "name": "python3"
  },
  "language_info": {
   "codemirror_mode": {
    "name": "ipython",
    "version": 3
   },
   "file_extension": ".py",
   "mimetype": "text/x-python",
   "name": "python",
   "nbconvert_exporter": "python",
   "pygments_lexer": "ipython3",
   "version": "3.6.7"
  }
 },
 "nbformat": 4,
 "nbformat_minor": 2
}
