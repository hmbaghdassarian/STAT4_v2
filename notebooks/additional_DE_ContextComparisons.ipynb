{
 "cells": [
  {
   "cell_type": "markdown",
   "id": "df7cb82e",
   "metadata": {},
   "source": [
    "We expect T-cell and NK cell populations to be effected by the STAT4 mutation, so we will specifically look into those subpopulations. \n",
    "\n",
    "Here, we specifically add the Patient 1 vs Control context comparisons that wasn't originally conducted in [Notebook 02](./02_DE_ContextComparisons.ipynb). We use the same thresholds as Patient 2 vs Control in Notebook 02. "
   ]
  },
  {
   "cell_type": "code",
   "execution_count": 1,
   "id": "db186480",
   "metadata": {},
   "outputs": [],
   "source": [
    "suppressPackageStartupMessages({\n",
    "    suppressWarnings({\n",
    "        library(Seurat, quietly = T)\n",
    "        library(openxlsx, quietly = T)\n",
    "        library(ggpubr, quietly = T)\n",
    "        library(plyr, quietly = T)\n",
    "        library(dplyr, quietly = T)\n",
    "    })\n",
    "})\n",
    "\n",
    "data_path = '/data3/hratch/STAT4_v2/'"
   ]
  },
  {
   "cell_type": "code",
   "execution_count": 2,
   "id": "4f842f5f",
   "metadata": {},
   "outputs": [],
   "source": [
    "pbmc.integrated<-readRDS(paste0(data_path, 'processed/pbmc_integrated.RDS'))\n",
    "md<-pbmc.integrated@meta.data"
   ]
  },
  {
   "cell_type": "markdown",
   "id": "de453068",
   "metadata": {},
   "source": [
    "Specify the cell types and context comparisons to test for:"
   ]
  },
  {
   "cell_type": "code",
   "execution_count": 3,
   "id": "92b80e88",
   "metadata": {},
   "outputs": [],
   "source": [
    "cell.types<-c('Naive CD8+ T cells', 'CD8+ NKT-like cells', 'Natural killer  cells', \n",
    "              'Naive CD4+ T cells', 'Effector CD4+ T cells', 'Memory CD4+ T cells')\n",
    "comparisons<-list(disease.effect = c('Patient.1', 'Control'))"
   ]
  },
  {
   "cell_type": "markdown",
   "id": "3894f513",
   "metadata": {},
   "source": [
    "We anticipate that there is a general upregulation of genes in Patient 2 vs the control, since STAT4 is a gain-of-function mutation.\n",
    "\n",
    "Since we are testing differences in the same cell type across contexts, we employ DE tests that can control for technical effects. Latent variables that account for technical effects have been [shown](https://www.biorxiv.org/content/10.1101/2022.03.15.484475v1) to be effective for DE across contexts. We will first use MAST and the CDR (cellular detection rate) which has been [shown](https://genomebiology.biomedcentral.com/articles/10.1186/s13059-015-0844-5) to be an effective latent variable for technical effects\n",
    "\n",
    "Note, we do expect downregulation of genes in Patient 1 relative to Patient 2 since this is the treatment-effect."
   ]
  },
  {
   "cell_type": "markdown",
   "id": "ef04c3b0",
   "metadata": {},
   "source": [
    "# CDR"
   ]
  },
  {
   "cell_type": "markdown",
   "id": "14953d58",
   "metadata": {},
   "source": [
    "First, we calculate the CDR from the LogNormalized expression matrix:"
   ]
  },
  {
   "cell_type": "code",
   "execution_count": 4,
   "id": "e1fbcc16",
   "metadata": {},
   "outputs": [],
   "source": [
    "freq<-function(expr){\n",
    "    nonzero.counts<-rowSums(expr !=0 ) # get # of nonzero cells per gene\n",
    "    return(nonzero.counts/dim(expr)[[2]])\n",
    "}"
   ]
  },
  {
   "cell_type": "code",
   "execution_count": 5,
   "id": "aced05b3",
   "metadata": {},
   "outputs": [],
   "source": [
    "expr = pbmc.integrated@assays$RNA@data # log-normalized matrix\n",
    "expr<-expr[which(freq(expr)>0),] # remove invariant genes"
   ]
  },
  {
   "cell_type": "code",
   "execution_count": 6,
   "id": "f30ba47d",
   "metadata": {},
   "outputs": [],
   "source": [
    "thresh = 0 # calculate CDR on non-zero frequency (NOTE: code will need to be changed if setting higher thresh)\n",
    "cdr<-unlist(unname(scale(colSums(expr!=thresh))[, 1])) # calculate CDR as in MAST tutorial (https://www.bioconductor.org/packages/release/bioc/vignettes/MAST/inst/doc/MAITAnalysis.html)"
   ]
  },
  {
   "cell_type": "code",
   "execution_count": 7,
   "id": "4d4811ca",
   "metadata": {},
   "outputs": [],
   "source": [
    "pbmc.integrated@meta.data[['cellular.detection.rate']]<-cdr # add cdr to object"
   ]
  },
  {
   "cell_type": "markdown",
   "id": "f640800d",
   "metadata": {},
   "source": [
    "# MAST"
   ]
  },
  {
   "cell_type": "code",
   "execution_count": 8,
   "id": "59e5e84e",
   "metadata": {},
   "outputs": [],
   "source": [
    "MAST.de<-function(cell.type, context.treat, context.base, latent.vars, min.pct, lfc.thresh){\n",
    "    pbmc.subset<-subset(x = pbmc.integrated, subset = Cell.Type == ct)\n",
    "    Idents(pbmc.subset)<-'orig.ident'\n",
    "    \n",
    "    suppressWarnings({\n",
    "        suppressMessages({\n",
    "            de.res<-FindMarkers(object = pbmc.subset, \n",
    "                                ident.1 = context.treat, ident.2 = context.base,\n",
    "                                assay = 'RNA', only.pos = F, \n",
    "                                slot = 'data', test.use = 'MAST', \n",
    "                                latent.vars = latent.vars,\n",
    "                                min.pct = min.pct, \n",
    "                                logfc.threshold = lfc.thresh \n",
    "                                              )\n",
    "            })\n",
    "    })\n",
    "    \n",
    "    names(de.res)[names(de.res) == 'p_val_adj'] <- 'bonferroni.adjusted' # rename to specify correction type\n",
    "    # get the B-H to be less stringent than the native Seurat Bonferroni\n",
    "    de.res[['BH.adjusted']]<-p.adjust(p = de.res$p_val, method = \"BH\") \n",
    "    de.res[['gene']]<-rownames(de.res)\n",
    "    de.res[['Cell.Type']]<-ct\n",
    "    de.res[['Comparison']]<-paste0(context.treat, '_vs_', context.base)\n",
    "    \n",
    "    return(de.res)\n",
    "}"
   ]
  },
  {
   "cell_type": "markdown",
   "id": "df474f36",
   "metadata": {},
   "source": [
    "Since we expect fewer differences between Patient 1 vs Patient 2 relative to Patient vs Control,  we have a less stringent threshold for the minimum % of cells a gene must be expressed and lfc thresholds to include."
   ]
  },
  {
   "cell_type": "code",
   "execution_count": 9,
   "id": "8e1650ea",
   "metadata": {},
   "outputs": [],
   "source": [
    "# MAST.de.res<-list()\n",
    "# for (comparison in comparisons){\n",
    "#     for (ct in cell.types){\n",
    "#         context.treat<-comparison[[1]]\n",
    "#         context.base<-comparison[[2]]\n",
    "#         cond.name<-paste0(ct, '_', paste0(comparison, collapse = 'vs'))\n",
    "#         if (context.base == 'Control'){\n",
    "#             min.pct = 0.1\n",
    "#             lfc.thresh = 0.9\n",
    "#         }else{# less stringent for patient comparison bc fewer differences\n",
    "#             min.pct = 0.05 \n",
    "#             lfc.thresh = 0.5\n",
    "#         }\n",
    "#         MAST.de.res[[cond.name]]<-MAST.de(cell.type, context.treat, context.base, \n",
    "#                                       latent.vars = 'cellular.detection.rate', \n",
    "#                                          min.pct = min.pct, lfc.thresh = lfc.thresh)\n",
    "#     }\n",
    "# }\n",
    "# saveRDS(MAST.de.res, paste0(data_path, 'processed/additional_MAST_condition-specific_DE.RDS'))\n",
    "MAST.de.res<-readRDS(paste0(data_path, 'processed/additional_MAST_condition-specific_DE.RDS'))"
   ]
  },
  {
   "cell_type": "code",
   "execution_count": 21,
   "id": "7b46d2a1",
   "metadata": {},
   "outputs": [
    {
     "name": "stdout",
     "output_type": "stream",
     "text": [
      "[1] \"# of DE genes with BH <= 0.1 and LFC >= 0.5:\"\n"
     ]
    },
    {
     "data": {
      "text/plain": [
       "                       \n",
       "                        Patient.1_vs_Control\n",
       "  CD8+ NKT-like cells                    239\n",
       "  Effector CD4+ T cells                  183\n",
       "  Memory CD4+ T cells                    119\n",
       "  Naive CD4+ T cells                     201\n",
       "  Naive CD8+ T cells                     201\n",
       "  Natural killer  cells                  181"
      ]
     },
     "metadata": {},
     "output_type": "display_data"
    }
   ],
   "source": [
    "de.res<-do.call(\"rbind\", MAST.de.res)\n",
    "de.res<-de.res[de.res$BH.adjusted <= 0.1,]\n",
    "\n",
    "print('# of DE genes with BH <= 0.1 and LFC >= 0.5:')\n",
    "table(de.res$Cell.Type, de.res$Comparison)"
   ]
  },
  {
   "cell_type": "markdown",
   "id": "70e79da5",
   "metadata": {},
   "source": [
    "Format and use different BH thresholds for the two comparisons:"
   ]
  },
  {
   "cell_type": "code",
   "execution_count": 22,
   "id": "2237f8fd",
   "metadata": {},
   "outputs": [
    {
     "name": "stdout",
     "output_type": "stream",
     "text": [
      "[1] \"# of DE genes with BH <= 0.01 and LFC >= 0.5:\"\n"
     ]
    },
    {
     "data": {
      "text/plain": [
       "                       \n",
       "                        Patient.1_vs_Control\n",
       "  CD8+ NKT-like cells                    209\n",
       "  Effector CD4+ T cells                  182\n",
       "  Memory CD4+ T cells                     47\n",
       "  Naive CD4+ T cells                     199\n",
       "  Naive CD8+ T cells                     142\n",
       "  Natural killer  cells                   97"
      ]
     },
     "metadata": {},
     "output_type": "display_data"
    }
   ],
   "source": [
    "de.res<-do.call(\"rbind\", MAST.de.res)\n",
    "\n",
    "# BH threshold separately on each comparison\n",
    "de.res.control<-de.res[de.res$Comparison == 'Patient.1_vs_Control', ]\n",
    "\n",
    "de.res.control<-de.res.control[de.res.control$BH.adjusted <= 0.01,]\n",
    "de.res<-de.res.control\n",
    "de.res<-de.res[with(de.res, order(Cell.Type, -abs(avg_log2FC), BH.adjusted)), ]\n",
    "\n",
    "print('# of DE genes with BH <= 0.01 and LFC >= 0.5:')\n",
    "table(de.res$Cell.Type, de.res$Comparison)"
   ]
  },
  {
   "cell_type": "code",
   "execution_count": 17,
   "id": "a0931581",
   "metadata": {},
   "outputs": [
    {
     "name": "stdout",
     "output_type": "stream",
     "text": [
      "[1] \"# of DE genes prior to filtering:\"\n"
     ]
    },
    {
     "data": {
      "text/plain": [
       "                       \n",
       "                        Patient.1_vs_Patient.2 Patient.2_vs_Control\n",
       "  CD8+ NKT-like cells                     1416                  780\n",
       "  Effector CD4+ T cells                    551                  905\n",
       "  Memory CD4+ T cells                       41                  174\n",
       "  Naive CD4+ T cells                       383                  631\n",
       "  Naive CD8+ T cells                       243                  474\n",
       "  Natural killer  cells                     75                  330"
      ]
     },
     "metadata": {},
     "output_type": "display_data"
    }
   ],
   "source": [
    "de.res<-do.call(\"rbind\", MAST.de.res)\n",
    "\n",
    "# BH threshold separately on each comparison\n",
    "de.res.control<-de.res[de.res$Comparison == 'Patient.1_vs_Control', ]\n",
    "\n",
    "de.res.control<-de.res.control[de.res.control$BH.adjusted <= 0.01,]\n",
    "de.res<-de.res.control\n",
    "de.res<-de.res[with(de.res, order(Cell.Type, -abs(avg_log2FC), BH.adjusted)), ]\n",
    "\n",
    "print('# of DE genes prior to filtering:')\n",
    "table(de.res$Cell.Type, de.res$Comparison)"
   ]
  },
  {
   "cell_type": "markdown",
   "id": "7bc24c6a",
   "metadata": {},
   "source": [
    "Save to excel file:"
   ]
  },
  {
   "cell_type": "code",
   "execution_count": 23,
   "id": "4c4faa0c",
   "metadata": {},
   "outputs": [],
   "source": [
    "# save to excel\n",
    "counter<-1\n",
    "context_comparisons_workbook<-createWorkbook()\n",
    "for (comparison in unique(de.res$Comparison)){\n",
    "    for (cell.type in  unique(de.res$Cell.Type)){\n",
    "        de.res.cl<-de.res[(de.res$Comparison == comparison) & (de.res$Cell.Type == cell.type), ]\n",
    "        if (dim(de.res.cl)[[1]] > 0){rownames(de.res.cl)<-1:dim(de.res.cl)[[1]]}\n",
    "        \n",
    "        addWorksheet(context_comparisons_workbook, paste0(counter))\n",
    "        writeData(context_comparisons_workbook, sheet = paste0(counter), x = de.res.cl)\n",
    "        counter<-counter+1\n",
    "    }\n",
    "}\n",
    "saveWorkbook(context_comparisons_workbook, overwrite = T, \n",
    "                 paste0(data_path, 'processed/', 'additional_MAST_condition-specific_DE.xlsx'))"
   ]
  }
 ],
 "metadata": {
  "kernelspec": {
   "display_name": "R [conda env:norcross_abc]",
   "language": "R",
   "name": "conda-env-norcross_abc-r"
  },
  "language_info": {
   "codemirror_mode": "r",
   "file_extension": ".r",
   "mimetype": "text/x-r-source",
   "name": "R",
   "pygments_lexer": "r",
   "version": "4.2.1"
  }
 },
 "nbformat": 4,
 "nbformat_minor": 5
}
