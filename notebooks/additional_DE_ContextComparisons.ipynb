{
 "cells": [
  {
   "cell_type": "markdown",
   "id": "df7cb82e",
   "metadata": {},
   "source": [
    "We expect T-cell and NK cell populations to be effected by the STAT4 mutation, so we will specifically look into those subpopulations. \n",
    "\n",
    "Here, we specifically add the Patient 1 vs Control context comparisons that wasn't originally conducted in [Notebook 02](./02_DE_ContextComparisons.ipynb). We use the same thresholds as Patient 2 vs Control in Notebook 02. "
   ]
  },
  {
   "cell_type": "code",
   "execution_count": 1,
   "id": "db186480",
   "metadata": {},
   "outputs": [],
   "source": [
    "suppressPackageStartupMessages({\n",
    "    suppressWarnings({\n",
    "        library(Seurat, quietly = T)\n",
    "        library(openxlsx, quietly = T)\n",
    "        library(ggpubr, quietly = T)\n",
    "        library(plyr, quietly = T)\n",
    "        library(dplyr, quietly = T)\n",
    "    })\n",
    "})\n",
    "\n",
    "data_path = '/data3/hratch/STAT4_v2/'"
   ]
  },
  {
   "cell_type": "code",
   "execution_count": 2,
   "id": "4f842f5f",
   "metadata": {},
   "outputs": [],
   "source": [
    "pbmc.integrated<-readRDS(paste0(data_path, 'processed/pbmc_integrated.RDS'))\n",
    "md<-pbmc.integrated@meta.data"
   ]
  },
  {
   "cell_type": "markdown",
   "id": "de453068",
   "metadata": {},
   "source": [
    "Specify the cell types and context comparisons to test for:"
   ]
  },
  {
   "cell_type": "code",
   "execution_count": 3,
   "id": "92b80e88",
   "metadata": {},
   "outputs": [],
   "source": [
    "cell.types<-c('Naive CD8+ T cells', 'CD8+ NKT-like cells', 'Natural killer  cells', \n",
    "              'Naive CD4+ T cells', 'Effector CD4+ T cells', 'Memory CD4+ T cells')\n",
    "comparisons<-list(disease.effect = c('Patient.1', 'Control'))"
   ]
  },
  {
   "cell_type": "markdown",
   "id": "3894f513",
   "metadata": {},
   "source": [
    "We anticipate that there is a general upregulation of genes in Patient 2 vs the control, since STAT4 is a gain-of-function mutation.\n",
    "\n",
    "Since we are testing differences in the same cell type across contexts, we employ DE tests that can control for technical effects. Latent variables that account for technical effects have been [shown](https://www.biorxiv.org/content/10.1101/2022.03.15.484475v1) to be effective for DE across contexts. We will first use MAST and the CDR (cellular detection rate) which has been [shown](https://genomebiology.biomedcentral.com/articles/10.1186/s13059-015-0844-5) to be an effective latent variable for technical effects\n",
    "\n",
    "Note, we do expect downregulation of genes in Patient 1 relative to Patient 2 since this is the treatment-effect."
   ]
  },
  {
   "cell_type": "markdown",
   "id": "ef04c3b0",
   "metadata": {},
   "source": [
    "# CDR"
   ]
  },
  {
   "cell_type": "markdown",
   "id": "14953d58",
   "metadata": {},
   "source": [
    "First, we calculate the CDR from the LogNormalized expression matrix:"
   ]
  },
  {
   "cell_type": "code",
   "execution_count": 4,
   "id": "e1fbcc16",
   "metadata": {},
   "outputs": [],
   "source": [
    "freq<-function(expr){\n",
    "    nonzero.counts<-rowSums(expr !=0 ) # get # of nonzero cells per gene\n",
    "    return(nonzero.counts/dim(expr)[[2]])\n",
    "}"
   ]
  },
  {
   "cell_type": "code",
   "execution_count": 5,
   "id": "aced05b3",
   "metadata": {},
   "outputs": [],
   "source": [
    "expr = pbmc.integrated@assays$RNA@data # log-normalized matrix\n",
    "expr<-expr[which(freq(expr)>0),] # remove invariant genes"
   ]
  },
  {
   "cell_type": "code",
   "execution_count": 6,
   "id": "f30ba47d",
   "metadata": {},
   "outputs": [],
   "source": [
    "thresh = 0 # calculate CDR on non-zero frequency (NOTE: code will need to be changed if setting higher thresh)\n",
    "cdr<-unlist(unname(scale(colSums(expr!=thresh))[, 1])) # calculate CDR as in MAST tutorial (https://www.bioconductor.org/packages/release/bioc/vignettes/MAST/inst/doc/MAITAnalysis.html)"
   ]
  },
  {
   "cell_type": "code",
   "execution_count": 7,
   "id": "4d4811ca",
   "metadata": {},
   "outputs": [],
   "source": [
    "pbmc.integrated@meta.data[['cellular.detection.rate']]<-cdr # add cdr to object"
   ]
  },
  {
   "cell_type": "markdown",
   "id": "f640800d",
   "metadata": {},
   "source": [
    "# MAST"
   ]
  },
  {
   "cell_type": "code",
   "execution_count": 8,
   "id": "59e5e84e",
   "metadata": {},
   "outputs": [],
   "source": [
    "MAST.de<-function(cell.type, context.treat, context.base, latent.vars, min.pct, lfc.thresh){\n",
    "    pbmc.subset<-subset(x = pbmc.integrated, subset = Cell.Type == ct)\n",
    "    Idents(pbmc.subset)<-'orig.ident'\n",
    "    \n",
    "    suppressWarnings({\n",
    "        suppressMessages({\n",
    "            de.res<-FindMarkers(object = pbmc.subset, \n",
    "                                ident.1 = context.treat, ident.2 = context.base,\n",
    "                                assay = 'RNA', only.pos = F, \n",
    "                                slot = 'data', test.use = 'MAST', \n",
    "                                latent.vars = latent.vars,\n",
    "                                min.pct = min.pct, \n",
    "                                logfc.threshold = lfc.thresh \n",
    "                                              )\n",
    "            })\n",
    "    })\n",
    "    \n",
    "    names(de.res)[names(de.res) == 'p_val_adj'] <- 'bonferroni.adjusted' # rename to specify correction type\n",
    "    # get the B-H to be less stringent than the native Seurat Bonferroni\n",
    "    de.res[['BH.adjusted']]<-p.adjust(p = de.res$p_val, method = \"BH\") \n",
    "    de.res[['gene']]<-rownames(de.res)\n",
    "    de.res[['Cell.Type']]<-ct\n",
    "    de.res[['Comparison']]<-paste0(context.treat, '_vs_', context.base)\n",
    "    \n",
    "    return(de.res)\n",
    "}"
   ]
  },
  {
   "cell_type": "markdown",
   "id": "df474f36",
   "metadata": {},
   "source": [
    "Since we expect fewer differences between Patient 1 vs Patient 2 relative to Patient vs Control,  we have a less stringent threshold for the minimum % of cells a gene must be expressed and lfc thresholds to include."
   ]
  },
  {
   "cell_type": "code",
   "execution_count": 9,
   "id": "8e1650ea",
   "metadata": {},
   "outputs": [],
   "source": [
    "# MAST.de.res<-list()\n",
    "# for (comparison in comparisons){\n",
    "#     for (ct in cell.types){\n",
    "#         context.treat<-comparison[[1]]\n",
    "#         context.base<-comparison[[2]]\n",
    "#         cond.name<-paste0(ct, '_', paste0(comparison, collapse = 'vs'))\n",
    "#         if (context.base == 'Control'){\n",
    "#             min.pct = 0.1\n",
    "#             lfc.thresh = 0.9\n",
    "#         }else{# less stringent for patient comparison bc fewer differences\n",
    "#             min.pct = 0.05 \n",
    "#             lfc.thresh = 0.5\n",
    "#         }\n",
    "#         MAST.de.res[[cond.name]]<-MAST.de(cell.type, context.treat, context.base, \n",
    "#                                       latent.vars = 'cellular.detection.rate', \n",
    "#                                          min.pct = min.pct, lfc.thresh = lfc.thresh)\n",
    "#     }\n",
    "# }\n",
    "# saveRDS(MAST.de.res, paste0(data_path, 'processed/additional_MAST_condition-specific_DE.RDS'))\n",
    "MAST.de.res<-readRDS(paste0(data_path, 'processed/additional_MAST_condition-specific_DE.RDS'))"
   ]
  },
  {
   "cell_type": "code",
   "execution_count": 10,
   "id": "7b46d2a1",
   "metadata": {},
   "outputs": [
    {
     "name": "stdout",
     "output_type": "stream",
     "text": [
      "[1] \"# of DE genes with BH <= 0.1 and LFC >= 0.5:\"\n"
     ]
    },
    {
     "data": {
      "text/plain": [
       "                       \n",
       "                        Patient.1_vs_Control\n",
       "  CD8+ NKT-like cells                    239\n",
       "  Effector CD4+ T cells                  183\n",
       "  Memory CD4+ T cells                    119\n",
       "  Naive CD4+ T cells                     201\n",
       "  Naive CD8+ T cells                     201\n",
       "  Natural killer  cells                  181"
      ]
     },
     "metadata": {},
     "output_type": "display_data"
    }
   ],
   "source": [
    "de.res<-do.call(\"rbind\", MAST.de.res)\n",
    "de.res<-de.res[de.res$BH.adjusted <= 0.1,]\n",
    "\n",
    "print('# of DE genes with BH <= 0.1 and LFC >= 0.5:')\n",
    "table(de.res$Cell.Type, de.res$Comparison)"
   ]
  },
  {
   "cell_type": "markdown",
   "id": "70e79da5",
   "metadata": {},
   "source": [
    "Format and use different BH thresholds for the two comparisons:"
   ]
  },
  {
   "cell_type": "code",
   "execution_count": 11,
   "id": "ec27086a",
   "metadata": {},
   "outputs": [
    {
     "name": "stdout",
     "output_type": "stream",
     "text": [
      "[1] \"# of DE genes with BH <= 0.01 and LFC >= 0.5:\"\n"
     ]
    },
    {
     "data": {
      "text/plain": [
       "                       \n",
       "                        Patient.1_vs_Control\n",
       "  CD8+ NKT-like cells                    209\n",
       "  Effector CD4+ T cells                  182\n",
       "  Memory CD4+ T cells                     47\n",
       "  Naive CD4+ T cells                     199\n",
       "  Naive CD8+ T cells                     142\n",
       "  Natural killer  cells                   97"
      ]
     },
     "metadata": {},
     "output_type": "display_data"
    }
   ],
   "source": [
    "de.res<-do.call(\"rbind\", MAST.de.res)\n",
    "\n",
    "# BH threshold separately on each comparison\n",
    "de.res.control<-de.res[de.res$Comparison == 'Patient.1_vs_Control', ]\n",
    "\n",
    "de.res.control<-de.res.control[de.res.control$BH.adjusted <= 0.01,]\n",
    "de.res<-de.res.control\n",
    "de.res<-de.res[with(de.res, order(Cell.Type, -abs(avg_log2FC), BH.adjusted)), ]\n",
    "\n",
    "print('# of DE genes with BH <= 0.01 and LFC >= 0.5:')\n",
    "table(de.res$Cell.Type, de.res$Comparison)"
   ]
  },
  {
   "cell_type": "code",
   "execution_count": 12,
   "id": "a0931581",
   "metadata": {},
   "outputs": [
    {
     "name": "stdout",
     "output_type": "stream",
     "text": [
      "[1] \"# of DE genes prior to filtering:\"\n"
     ]
    },
    {
     "data": {
      "text/plain": [
       "                       \n",
       "                        Patient.1_vs_Control\n",
       "  CD8+ NKT-like cells                    209\n",
       "  Effector CD4+ T cells                  182\n",
       "  Memory CD4+ T cells                     47\n",
       "  Naive CD4+ T cells                     199\n",
       "  Naive CD8+ T cells                     142\n",
       "  Natural killer  cells                   97"
      ]
     },
     "metadata": {},
     "output_type": "display_data"
    }
   ],
   "source": [
    "de.res<-do.call(\"rbind\", MAST.de.res)\n",
    "\n",
    "# BH threshold separately on each comparison\n",
    "de.res.control<-de.res[de.res$Comparison == 'Patient.1_vs_Control', ]\n",
    "\n",
    "de.res.control<-de.res.control[de.res.control$BH.adjusted <= 0.01,]\n",
    "de.res<-de.res.control\n",
    "de.res<-de.res[with(de.res, order(Cell.Type, -abs(avg_log2FC), BH.adjusted)), ]\n",
    "\n",
    "print('# of DE genes prior to filtering:')\n",
    "table(de.res$Cell.Type, de.res$Comparison)"
   ]
  },
  {
   "cell_type": "markdown",
   "id": "7bc24c6a",
   "metadata": {},
   "source": [
    "Save to excel file:"
   ]
  },
  {
   "cell_type": "code",
   "execution_count": 13,
   "id": "4c4faa0c",
   "metadata": {},
   "outputs": [],
   "source": [
    "# save to excel\n",
    "counter<-1\n",
    "context_comparisons_workbook<-createWorkbook()\n",
    "for (comparison in unique(de.res$Comparison)){\n",
    "    for (cell.type in  unique(de.res$Cell.Type)){\n",
    "        de.res.cl<-de.res[(de.res$Comparison == comparison) & (de.res$Cell.Type == cell.type), ]\n",
    "        if (dim(de.res.cl)[[1]] > 0){rownames(de.res.cl)<-1:dim(de.res.cl)[[1]]}\n",
    "        \n",
    "        addWorksheet(context_comparisons_workbook, paste0(counter))\n",
    "        writeData(context_comparisons_workbook, sheet = paste0(counter), x = de.res.cl)\n",
    "        counter<-counter+1\n",
    "    }\n",
    "}\n",
    "saveWorkbook(context_comparisons_workbook, overwrite = T, \n",
    "                 paste0(data_path, 'processed/', 'additional_MAST_condition-specific_DE.xlsx'))"
   ]
  },
  {
   "cell_type": "code",
   "execution_count": 16,
   "id": "88ff1e46",
   "metadata": {},
   "outputs": [
    {
     "data": {
      "text/plain": [
       "R version 4.1.3 (2022-03-10)\n",
       "Platform: x86_64-conda-linux-gnu (64-bit)\n",
       "Running under: Ubuntu 18.04.6 LTS\n",
       "\n",
       "Matrix products: default\n",
       "BLAS/LAPACK: /home/hratch/miniconda3/envs/STAT4/lib/libopenblasp-r0.3.21.so\n",
       "\n",
       "locale:\n",
       " [1] LC_CTYPE=en_US.UTF-8       LC_NUMERIC=C              \n",
       " [3] LC_TIME=en_US.UTF-8        LC_COLLATE=en_US.UTF-8    \n",
       " [5] LC_MONETARY=en_US.UTF-8    LC_MESSAGES=en_US.UTF-8   \n",
       " [7] LC_PAPER=en_US.UTF-8       LC_NAME=C                 \n",
       " [9] LC_ADDRESS=C               LC_TELEPHONE=C            \n",
       "[11] LC_MEASUREMENT=en_US.UTF-8 LC_IDENTIFICATION=C       \n",
       "\n",
       "attached base packages:\n",
       "[1] stats4    stats     graphics  grDevices utils     datasets  methods  \n",
       "[8] base     \n",
       "\n",
       "other attached packages:\n",
       " [1] MAST_1.25.1                 SingleCellExperiment_1.16.0\n",
       " [3] SummarizedExperiment_1.24.0 Biobase_2.54.0             \n",
       " [5] GenomicRanges_1.46.1        GenomeInfoDb_1.30.1        \n",
       " [7] IRanges_2.28.0              S4Vectors_0.32.4           \n",
       " [9] BiocGenerics_0.40.0         MatrixGenerics_1.6.0       \n",
       "[11] matrixStats_0.63.0          dplyr_1.1.0                \n",
       "[13] plyr_1.8.8                  ggpubr_0.4.0               \n",
       "[15] ggplot2_3.4.1               openxlsx_4.2.5.2           \n",
       "[17] SeuratObject_4.1.3          Seurat_4.1.1               \n",
       "\n",
       "loaded via a namespace (and not attached):\n",
       "  [1] uuid_1.1-0             backports_1.4.1        igraph_1.4.1          \n",
       "  [4] repr_1.1.6             lazyeval_0.2.2         sp_1.6-0              \n",
       "  [7] splines_4.1.3          listenv_0.9.0          scattermore_0.8       \n",
       " [10] digest_0.6.31          htmltools_0.5.4        fansi_1.0.4           \n",
       " [13] magrittr_2.0.3         tensor_1.5             cluster_2.1.4         \n",
       " [16] ROCR_1.0-11            globals_0.16.2         spatstat.sparse_3.0-0 \n",
       " [19] colorspace_2.1-0       ggrepel_0.9.3          crayon_1.5.2          \n",
       " [22] RCurl_1.98-1.10        jsonlite_1.8.4         progressr_0.13.0      \n",
       " [25] spatstat.data_3.0-0    survival_3.5-3         zoo_1.8-11            \n",
       " [28] glue_1.6.2             polyclip_1.10-4        gtable_0.3.1          \n",
       " [31] zlibbioc_1.40.0        XVector_0.34.0         leiden_0.4.3          \n",
       " [34] DelayedArray_0.20.0    car_3.1-1              future.apply_1.10.0   \n",
       " [37] abind_1.4-5            scales_1.2.1           rstatix_0.7.2         \n",
       " [40] spatstat.random_3.1-3  miniUI_0.1.1.1         Rcpp_1.0.10           \n",
       " [43] viridisLite_0.4.1      xtable_1.8-4           reticulate_1.28       \n",
       " [46] spatstat.core_2.4-4    htmlwidgets_1.6.1      httr_1.4.5            \n",
       " [49] RColorBrewer_1.1-3     ellipsis_0.3.2         ica_1.0-3             \n",
       " [52] pkgconfig_2.0.3        uwot_0.1.14            deldir_1.0-6          \n",
       " [55] utf8_1.2.3             tidyselect_1.2.0       rlang_1.0.6           \n",
       " [58] reshape2_1.4.4         later_1.3.0            munsell_0.5.0         \n",
       " [61] tools_4.1.3            cli_3.6.0              generics_0.1.3        \n",
       " [64] broom_1.0.3            ggridges_0.5.4         evaluate_0.20         \n",
       " [67] stringr_1.5.0          fastmap_1.1.1          goftest_1.2-3         \n",
       " [70] fitdistrplus_1.1-8     zip_2.2.2              purrr_1.0.1           \n",
       " [73] RANN_2.6.1             pbapply_1.7-0          future_1.32.0         \n",
       " [76] nlme_3.1-162           mime_0.12              compiler_4.1.3        \n",
       " [79] plotly_4.10.1          png_0.1-8              ggsignif_0.6.4        \n",
       " [82] spatstat.utils_3.0-1   tibble_3.2.0           stringi_1.7.12        \n",
       " [85] rgeos_0.6-2            lattice_0.20-45        IRdisplay_1.1         \n",
       " [88] Matrix_1.5-3           vctrs_0.5.2            pillar_1.8.1          \n",
       " [91] lifecycle_1.0.3        spatstat.geom_3.0-6    lmtest_0.9-40         \n",
       " [94] RcppAnnoy_0.0.20       data.table_1.14.8      cowplot_1.1.1         \n",
       " [97] bitops_1.0-7           irlba_2.3.5.1          httpuv_1.6.9          \n",
       "[100] patchwork_1.1.2        R6_2.5.1               promises_1.2.0.1      \n",
       "[103] KernSmooth_2.23-20     gridExtra_2.3          parallelly_1.34.0     \n",
       "[106] codetools_0.2-19       MASS_7.3-58.3          withr_2.5.0           \n",
       "[109] sctransform_0.3.5      GenomeInfoDbData_1.2.7 mgcv_1.8-42           \n",
       "[112] parallel_4.1.3         grid_4.1.3             rpart_4.1.19          \n",
       "[115] IRkernel_1.3.2         tidyr_1.3.0            carData_3.0-5         \n",
       "[118] Rtsne_0.16             pbdZMQ_0.3-9           shiny_1.7.4           \n",
       "[121] base64enc_0.1-3       "
      ]
     },
     "metadata": {},
     "output_type": "display_data"
    }
   ],
   "source": [
    "library(MAST, quietly = T)\n",
    "sessionInfo()"
   ]
  },
  {
   "cell_type": "code",
   "execution_count": null,
   "id": "f78072b1",
   "metadata": {},
   "outputs": [],
   "source": []
  }
 ],
 "metadata": {
  "kernelspec": {
   "display_name": "R [conda env:STAT4]",
   "language": "R",
   "name": "conda-env-STAT4-r"
  },
  "language_info": {
   "codemirror_mode": "r",
   "file_extension": ".r",
   "mimetype": "text/x-r-source",
   "name": "R",
   "pygments_lexer": "r",
   "version": "4.1.3"
  }
 },
 "nbformat": 4,
 "nbformat_minor": 5
}
