{
 "cells": [
  {
   "cell_type": "markdown",
   "id": "df7cb82e",
   "metadata": {},
   "source": [
    "We expect T-cell and NK cell populations to be effected by the STAT4 mutation, so we will specifically look into those subpopulations. \n",
    "\n",
    "We also want to  look at disease-effects (Patient 2, off treatment vs control) and treatment-effects (Patient 1, on treatment vs Patient 2, off treatment). "
   ]
  },
  {
   "cell_type": "code",
   "execution_count": 1,
   "id": "db186480",
   "metadata": {},
   "outputs": [],
   "source": [
    "suppressPackageStartupMessages({\n",
    "    suppressWarnings({\n",
    "        library(Seurat, quietly = T)\n",
    "        library(openxlsx, quietly = T)\n",
    "        library(ggpubr, quietly = T)\n",
    "        library(plyr, quietly = T)\n",
    "        library(dplyr, quietly = T)\n",
    "    })\n",
    "})\n",
    "\n",
    "data_path = '/data3/hratch/STAT4_v2/'"
   ]
  },
  {
   "cell_type": "code",
   "execution_count": 5,
   "id": "4f842f5f",
   "metadata": {},
   "outputs": [],
   "source": [
    "pbmc.integrated<-readRDS(paste0(data_path, 'processed/pbmc_integrated.RDS'))\n",
    "md<-pbmc.integrated@meta.data"
   ]
  },
  {
   "cell_type": "markdown",
   "id": "de453068",
   "metadata": {},
   "source": [
    "Specify the cell types and context comparisons to test for:"
   ]
  },
  {
   "cell_type": "code",
   "execution_count": 6,
   "id": "92b80e88",
   "metadata": {},
   "outputs": [],
   "source": [
    "cell.types<-c('Naive CD8+ T cells', 'CD8+ NKT-like cells', 'Natural killer  cells', \n",
    "              'Naive CD4+ T cells', 'Effector CD4+ T cells', 'Memory CD4+ T cells')\n",
    "comparisons<-list(disease.effect = c('Patient.2', 'Control'), \n",
    "                treatment.effect = c('Patient.1', 'Patient.2'))"
   ]
  },
  {
   "cell_type": "markdown",
   "id": "3894f513",
   "metadata": {},
   "source": [
    "We anticipate that there is a general upregulation of genes in Patient 2 vs the control, since STAT4 is a gain-of-function mutation.\n",
    "\n",
    "Since we are testing differences in the same cell type across contexts, we employ DE tests that can control for technical effects. Latent variables that account for technical effects have been [shown](https://www.biorxiv.org/content/10.1101/2022.03.15.484475v1) to be effective for DE across contexts. We will first use MAST and the CDR (cellular detection rate) which has been [shown](https://genomebiology.biomedcentral.com/articles/10.1186/s13059-015-0844-5) to be an effective latent variable for technical effects\n",
    "\n",
    "Note, we do expect downregulation of genes in Patient 1 relative to Patient 2 since this is the treatment-effect."
   ]
  },
  {
   "cell_type": "markdown",
   "id": "ef04c3b0",
   "metadata": {},
   "source": [
    "# CDR"
   ]
  },
  {
   "cell_type": "markdown",
   "id": "14953d58",
   "metadata": {},
   "source": [
    "First, we calculate the CDR from the LogNormalized expression matrix:"
   ]
  },
  {
   "cell_type": "code",
   "execution_count": 8,
   "id": "e1fbcc16",
   "metadata": {},
   "outputs": [],
   "source": [
    "freq<-function(expr){\n",
    "    nonzero.counts<-rowSums(expr !=0 ) # get # of nonzero cells per gene\n",
    "    return(nonzero.counts/dim(expr)[[2]])\n",
    "}"
   ]
  },
  {
   "cell_type": "code",
   "execution_count": 9,
   "id": "aced05b3",
   "metadata": {},
   "outputs": [],
   "source": [
    "expr = pbmc.integrated@assays$RNA@data # log-normalized matrix\n",
    "expr<-expr[which(freq(expr)>0),] # remove invariant genes"
   ]
  },
  {
   "cell_type": "code",
   "execution_count": 10,
   "id": "f30ba47d",
   "metadata": {},
   "outputs": [],
   "source": [
    "thresh = 0 # calculate CDR on non-zero frequency (NOTE: code will need to be changed if setting higher thresh)\n",
    "if (thresh == 0){\n",
    "    cdr<-unlist(unname(scale(colSums(expr!=thresh))[, 1])) # calculate CDR as in MAST tutorial (https://www.bioconductor.org/packages/release/bioc/vignettes/MAST/inst/doc/MAITAnalysis.html)\n",
    "    cdr.2<-unlist(unname(colSums(expr > thresh)/dim(expr)[[1]])) # calculate as in MAST manuscript\n",
    "}else{\n",
    "    stop('Need to implement this if using')\n",
    "}"
   ]
  },
  {
   "cell_type": "markdown",
   "id": "439402fe",
   "metadata": {},
   "source": [
    "<span style=\"color:red\">Note, although the two methods to calculate the CDR give different absolute values, they have perfect correlation (we will proceed with the tutorial recommended CDR calculation):"
   ]
  },
  {
   "cell_type": "code",
   "execution_count": 11,
   "id": "073eeef5",
   "metadata": {},
   "outputs": [
    {
     "data": {
      "text/html": [
       "FALSE"
      ],
      "text/latex": [
       "FALSE"
      ],
      "text/markdown": [
       "FALSE"
      ],
      "text/plain": [
       "[1] FALSE"
      ]
     },
     "metadata": {},
     "output_type": "display_data"
    },
    {
     "data": {
      "text/html": [
       "1"
      ],
      "text/latex": [
       "1"
      ],
      "text/markdown": [
       "1"
      ],
      "text/plain": [
       "[1] 1"
      ]
     },
     "metadata": {},
     "output_type": "display_data"
    }
   ],
   "source": [
    "identical(cdr, cdr.2)\n",
    "cor(cdr, cdr.2,  method = \"spearman\", use = \"complete.obs\")"
   ]
  },
  {
   "cell_type": "code",
   "execution_count": 12,
   "id": "4d4811ca",
   "metadata": {},
   "outputs": [],
   "source": [
    "pbmc.integrated@meta.data[['cellular.detection.rate']]<-cdr # add cdr to object"
   ]
  },
  {
   "cell_type": "markdown",
   "id": "f640800d",
   "metadata": {},
   "source": [
    "# MAST"
   ]
  },
  {
   "cell_type": "code",
   "execution_count": 13,
   "id": "59e5e84e",
   "metadata": {},
   "outputs": [],
   "source": [
    "MAST.de<-function(cell.type, context.treat, context.base, latent.vars, min.pct, lfc.thresh){\n",
    "    pbmc.subset<-subset(x = pbmc.integrated, subset = Cell.Type == ct)\n",
    "    Idents(pbmc.subset)<-'orig.ident'\n",
    "    \n",
    "    suppressWarnings({\n",
    "        suppressMessages({\n",
    "            de.res<-FindMarkers(object = pbmc.subset, \n",
    "                                ident.1 = context.treat, ident.2 = context.base,\n",
    "                                assay = 'RNA', only.pos = F, \n",
    "                                slot = 'data', test.use = 'MAST', \n",
    "                                latent.vars = latent.vars,\n",
    "                                min.pct = min.pct, \n",
    "                                logfc.threshold = lfc.thresh \n",
    "                                              )\n",
    "            })\n",
    "    })\n",
    "    \n",
    "    names(de.res)[names(de.res) == 'p_val_adj'] <- 'bonferroni.adjusted' # rename to specify correction type\n",
    "    # get the B-H to be less stringent than the native Seurat Bonferroni\n",
    "    de.res[['BH.adjusted']]<-p.adjust(p = de.res$p_val, method = \"BH\") \n",
    "    de.res[['gene']]<-rownames(de.res)\n",
    "    de.res[['Cell.Type']]<-ct\n",
    "    de.res[['Comparison']]<-paste0(context.treat, '_vs_', context.base)\n",
    "    \n",
    "    return(de.res)\n",
    "}"
   ]
  },
  {
   "cell_type": "markdown",
   "id": "df474f36",
   "metadata": {},
   "source": [
    "Since we expect fewer differences between Patient 1 vs Patient 2 relative to Patient vs Control,  we have a less stringent threshold for the minimum % of cells a gene must be expressed and lfc thresholds to include."
   ]
  },
  {
   "cell_type": "code",
   "execution_count": 14,
   "id": "8e1650ea",
   "metadata": {},
   "outputs": [],
   "source": [
    "MAST.de.res<-list()\n",
    "for (comparison in comparisons){\n",
    "    for (ct in cell.types){\n",
    "        context.treat<-comparison[[1]]\n",
    "        context.base<-comparison[[2]]\n",
    "        cond.name<-paste0(ct, '_', paste0(comparison, collapse = 'vs'))\n",
    "        if (context.base == 'Control'){\n",
    "            min.pct = 0.1\n",
    "            lfc.thresh = 0.9\n",
    "        }else{# less stringent for patient comparison bc fewer differences\n",
    "            min.pct = 0.05 \n",
    "            lfc.thresh = 0.5\n",
    "        }\n",
    "        MAST.de.res[[cond.name]]<-MAST.de(cell.type, context.treat, context.base, \n",
    "                                      latent.vars = 'cellular.detection.rate', \n",
    "                                         min.pct = min.pct, lfc.thresh = lfc.thresh)\n",
    "    }\n",
    "}\n",
    "saveRDS(MAST.de.res, paste0(data_path, 'processed/MAST_condition-specific_DE.RDS'))"
   ]
  },
  {
   "cell_type": "code",
   "execution_count": null,
   "id": "78b470dd",
   "metadata": {},
   "outputs": [],
   "source": [
    "MAST.de.res<-readRDS(paste0(data_path, 'processed/MAST_condition-specific_DE.RDS'))"
   ]
  },
  {
   "cell_type": "code",
   "execution_count": 16,
   "id": "7b46d2a1",
   "metadata": {},
   "outputs": [
    {
     "name": "stdout",
     "output_type": "stream",
     "text": [
      "[1] \"# of DE genes after filtering:\"\n"
     ]
    },
    {
     "data": {
      "text/plain": [
       "                       \n",
       "                        Patient.1_vs_Patient.2 Patient.2_vs_Control\n",
       "  CD8+ NKT-like cells                     1416                  858\n",
       "  Effector CD4+ T cells                    551                  937\n",
       "  Memory CD4+ T cells                       41                  570\n",
       "  Naive CD4+ T cells                       383                  645\n",
       "  Naive CD8+ T cells                       243                  685\n",
       "  Natural killer  cells                     75                  642"
      ]
     },
     "metadata": {},
     "output_type": "display_data"
    }
   ],
   "source": [
    "de.res<-do.call(\"rbind\", MAST.de.res)\n",
    "de.res<-de.res[de.res$BH.adjusted <= 0.1,]\n",
    "\n",
    "print('# of DE genes after filtering:')\n",
    "table(de.res$Cell.Type, de.res$Comparison)"
   ]
  },
  {
   "cell_type": "markdown",
   "id": "70e79da5",
   "metadata": {},
   "source": [
    "Format and use different BH thresholds for the two comparisons:"
   ]
  },
  {
   "cell_type": "code",
   "execution_count": 17,
   "id": "a0931581",
   "metadata": {},
   "outputs": [
    {
     "name": "stdout",
     "output_type": "stream",
     "text": [
      "[1] \"# of DE genes prior to filtering:\"\n"
     ]
    },
    {
     "data": {
      "text/plain": [
       "                       \n",
       "                        Patient.1_vs_Patient.2 Patient.2_vs_Control\n",
       "  CD8+ NKT-like cells                     1416                  780\n",
       "  Effector CD4+ T cells                    551                  905\n",
       "  Memory CD4+ T cells                       41                  174\n",
       "  Naive CD4+ T cells                       383                  631\n",
       "  Naive CD8+ T cells                       243                  474\n",
       "  Natural killer  cells                     75                  330"
      ]
     },
     "metadata": {},
     "output_type": "display_data"
    }
   ],
   "source": [
    "de.res<-do.call(\"rbind\", MAST.de.res)\n",
    "\n",
    "# BH threshold separately on each comparison\n",
    "de.res.control<-de.res[de.res$Comparison == 'Patient.2_vs_Control', ]\n",
    "de.res.patient<-de.res[de.res$Comparison == 'Patient.1_vs_Patient.2', ]\n",
    "\n",
    "de.res.control<-de.res.control[de.res.control$BH.adjusted <= 0.01,]\n",
    "# de.res.control<-de.res.control[abs(de.res.control$avg_log2FC) > 0.9,] # !!!!!put in for loop\n",
    "# de.res.control<-de.res.control[de.res.control$bonferroni.adjusted <= 0.1,]\n",
    "# de.res.patient<-de.res.patient[de.res.patient$BH.adjusted <= 0.1,]\n",
    "\n",
    "de.res<-rbind(de.res.patient, de.res.control)\n",
    "\n",
    "# de.res<-de.res[de.res$BH.adjusted <= 0.1,]\n",
    "\n",
    "de.res<-de.res[with(de.res, order(Cell.Type, -abs(avg_log2FC), BH.adjusted)), ]\n",
    "\n",
    "print('# of DE genes prior to filtering:')\n",
    "table(de.res$Cell.Type, de.res$Comparison)"
   ]
  },
  {
   "cell_type": "code",
   "execution_count": 18,
   "id": "c47b8363",
   "metadata": {},
   "outputs": [
    {
     "name": "stdout",
     "output_type": "stream",
     "text": [
      "[1] \"Fraction of DE genes that are positive:\"\n"
     ]
    },
    {
     "data": {
      "text/plain": [
       "                       \n",
       "                        Patient.1_vs_Patient.2 Patient.2_vs_Control\n",
       "  CD8+ NKT-like cells                0.2803672            0.5512821\n",
       "  Effector CD4+ T cells              0.3466425            0.5337017\n",
       "  Memory CD4+ T cells                0.4390244            0.4655172\n",
       "  Naive CD4+ T cells                 0.3524804            0.4120444\n",
       "  Naive CD8+ T cells                 0.3374486            0.4831224\n",
       "  Natural killer  cells              0.2000000            0.5212121"
      ]
     },
     "metadata": {},
     "output_type": "display_data"
    }
   ],
   "source": [
    "pos.only<-de.res[de.res$avg_log2FC > 0,]\n",
    "print('Fraction of DE genes that are positive:')\n",
    "table(pos.only$Cell.Type, pos.only$Comparison)/table(de.res$Cell.Type, de.res$Comparison)"
   ]
  },
  {
   "cell_type": "code",
   "execution_count": 19,
   "id": "ec6031fa",
   "metadata": {},
   "outputs": [
    {
     "data": {
      "text/plain": [
       "                       \n",
       "                        Patient.1_vs_Patient.2 Patient.2_vs_Control\n",
       "  CD8+ NKT-like cells                      397                  430\n",
       "  Effector CD4+ T cells                    191                  483\n",
       "  Memory CD4+ T cells                       18                   81\n",
       "  Naive CD4+ T cells                       135                  260\n",
       "  Naive CD8+ T cells                        82                  229\n",
       "  Natural killer  cells                     15                  172"
      ]
     },
     "metadata": {},
     "output_type": "display_data"
    }
   ],
   "source": [
    "table(pos.only$Cell.Type, pos.only$Comparison)"
   ]
  },
  {
   "cell_type": "markdown",
   "id": "07cfea37",
   "metadata": {},
   "source": [
    "# Enrichment Analysis"
   ]
  },
  {
   "cell_type": "markdown",
   "id": "7bc24c6a",
   "metadata": {},
   "source": [
    "Prep data for input to IPA (as well as supplementary tables):"
   ]
  },
  {
   "cell_type": "code",
   "execution_count": 20,
   "id": "4c4faa0c",
   "metadata": {},
   "outputs": [],
   "source": [
    "# save to excel\n",
    "counter<-1\n",
    "context_comparisons_workbook<-createWorkbook()\n",
    "for (comparison in unique(de.res$Comparison)){\n",
    "    for (cell.type in  unique(de.res$Cell.Type)){\n",
    "        de.res.cl<-de.res[(de.res$Comparison == comparison) & (de.res$Cell.Type == cell.type), ]\n",
    "        if (dim(de.res.cl)[[1]] > 0){rownames(de.res.cl)<-1:dim(de.res.cl)[[1]]}\n",
    "        \n",
    "        addWorksheet(context_comparisons_workbook, paste0(counter))\n",
    "        writeData(context_comparisons_workbook, sheet = paste0(counter), x = de.res.cl)\n",
    "        counter<-counter+1\n",
    "    \n",
    "        write.csv(de.res.cl, \n",
    "                  paste0(data_path, 'processed/', cell.type, '_', comparison, 'MAST_IPA_input.csv'))\n",
    "    }\n",
    "}\n",
    "saveWorkbook(context_comparisons_workbook, overwrite = T, \n",
    "                 paste0(data_path, 'processed/', 'MAST_condition-specific_DE.xlsx'))"
   ]
  },
  {
   "cell_type": "markdown",
   "id": "358af28c",
   "metadata": {},
   "source": [
    "See the methods in the mansucript for details on how IPA was run"
   ]
  }
 ],
 "metadata": {
  "kernelspec": {
   "display_name": "R [conda env:norcross_abc]",
   "language": "R",
   "name": "conda-env-norcross_abc-r"
  },
  "language_info": {
   "codemirror_mode": "r",
   "file_extension": ".r",
   "mimetype": "text/x-r-source",
   "name": "R",
   "pygments_lexer": "r",
   "version": "4.2.1"
  }
 },
 "nbformat": 4,
 "nbformat_minor": 5
}
