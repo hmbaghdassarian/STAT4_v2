{
 "cells": [
  {
   "cell_type": "code",
   "execution_count": null,
   "id": "43fba3b4",
   "metadata": {},
   "outputs": [],
   "source": [
    "CR_count<-function(ID, fastq_path, organism, localcores_= 5, mem_percent = 0.05, kwargs=''){\n",
    "    ### R wrapper for cell ranger count function\n",
    "    ### simple gene expression no feature barcodes\n",
    "    ### kwargs generated using hash, all key:value pairs must be strings\n",
    "    ### e.g. kwargs = hash(keys = list('expect-cells', 'force-cells'), values = list('1000', '800'))\n",
    "    ###\n",
    "    ### ID is name of directory to be saved in \n",
    "    ### fastq_path is path/to/fastq_directory\n",
    "    ### functionality right now is that output is in directory that script is run in, \n",
    "    ### unsure how to change this as ID does not take a path/to/id_name, just an id_name\n",
    "    \n",
    "    # get organisms reference transcriptome\n",
    "    if(organism == 'human'){transcriptome_ = '/data/hratch/Software/refdata-cellranger-GRCh38-3.1.0/GRCh38'}\n",
    "    else if (organism == 'mouse'){transcriptome_ = '/data/hratch/Software/refdata-cellranger-mm10-3.1.0/mm10'}\n",
    "    else{\n",
    "        msg<-'Download appropriate reference transcriptome in /data/hratch/Software/ and update'\n",
    "        msg<-paste0(msg, ' CellRanger_count_wrapper.r script in general_analyses')\n",
    "        stop(msg)}\n",
    "    \n",
    "    # get total available memory in GB\n",
    "    mem = strsplit(system('free -h', intern=TRUE), ' ')[[2]]\n",
    "    mem = mem[length(mem)]\n",
    "    mem = strsplit(mem, 'G')[[1]]\n",
    "    # set mem to mem_percent of total available memory\n",
    "    mem = (as.integer(as.double(mem)*mem_percent))\n",
    "    if (mem > 128){mem = 128}\n",
    "    mem = as.character(mem)\n",
    "    \n",
    "    str = paste0('cellranger count --id=', ID, ' --fastqs=', fastq_path, ' --transcriptome=', transcriptome_,\n",
    "                ' --localcores=', localcores_, ' --localmem=', mem)\n",
    "        \n",
    "    # add kwargs\n",
    "    if(is.hash(kwargs)){for(key in keys(kwargs)){str=paste0(str, ' --', key, '=', kwargs[[key]])}}\n",
    "#     return(str)\n",
    "    system(str, intern = TRUE)\n",
    "    \n",
    "}"
   ]
  },
  {
   "cell_type": "code",
   "execution_count": null,
   "id": "141a09a2",
   "metadata": {},
   "outputs": [],
   "source": [
    "local_data_path = '/data2/hratch/STAT4/'"
   ]
  },
  {
   "cell_type": "code",
   "execution_count": null,
   "id": "e1583585",
   "metadata": {},
   "outputs": [],
   "source": [
    "print('Run cell ranger count on patient/control fastqs')\n",
    "# run in /data2/hratch/STAT4/interim/\n",
    "samples = list('5k_pbmc_v3_fastqs', 'LB441_fastqs', 'LB443_fastqs')\n",
    "index = 1\n",
    "for(sample in samples){\n",
    "    print(sample)\n",
    "    fastq_path = paste0(local_data_path, 'raw/', sample)\n",
    "    ID = paste0(strsplit(sample, 'fastqs'), 'count')\n",
    "\n",
    "    # run CellRanger count function\n",
    "    if(sample == '5k_pbmc_v3_fastqs'){ # for control, expected cells is 5k according to title\n",
    "        CR_count(ID, fastq_path, organism = 'human', localcores_=8, mem_percent = 0.1,\n",
    "                 kwargs = hash(keys = list('expect-cells'), values = list('5000')))\n",
    "    }\n",
    "    else{CR_count(ID, fastq_path, organism = 'human', localcores_=8, mem_percent = 0.1)}\n",
    "\n",
    "\n",
    "    index<-index + 1\n",
    "}"
   ]
  }
 ],
 "metadata": {
  "kernelspec": {
   "display_name": "R [conda env:STAT4_v2] *",
   "language": "R",
   "name": "conda-env-STAT4_v2-r"
  },
  "language_info": {
   "codemirror_mode": "r",
   "file_extension": ".r",
   "mimetype": "text/x-r-source",
   "name": "R",
   "pygments_lexer": "r",
   "version": "4.1.3"
  }
 },
 "nbformat": 4,
 "nbformat_minor": 5
}
